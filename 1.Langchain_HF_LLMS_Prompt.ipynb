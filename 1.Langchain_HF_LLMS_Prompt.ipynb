{
 "cells": [
  {
   "cell_type": "code",
   "execution_count": 9,
   "id": "38984c60-5786-49db-b629-59a8000034f9",
   "metadata": {},
   "outputs": [],
   "source": [
    "from langchain.chains import LLMChain\n",
    "from langchain_core.prompts.prompt import PromptTemplate\n",
    "\n"
   ]
  },
  {
   "cell_type": "markdown",
   "id": "8672fb21-d047-4881-ad8d-ebecfe1f5610",
   "metadata": {},
   "source": [
    "### LCEL for text generation"
   ]
  },
  {
   "cell_type": "code",
   "execution_count": 1,
   "id": "af953010-c9f3-45f1-afed-09749acd78a4",
   "metadata": {},
   "outputs": [
    {
     "name": "stdin",
     "output_type": "stream",
     "text": [
      "h········\n"
     ]
    }
   ],
   "source": [
    "from langchain.llms import HuggingFaceHub\n",
    "import os\n",
    "from getpass import getpass\n",
    "\n",
    "os.environ[\"HUGGINGFACEHUB_API_TOKEN\"] = getpass(\"hePsTvohvnkFvZTRGNngvSukNeplr\")"
   ]
  },
  {
   "cell_type": "code",
   "execution_count": 17,
   "id": "27326377-ac70-400e-a9b2-94b12be96520",
   "metadata": {},
   "outputs": [],
   "source": [
    "llm = HuggingFaceHub(\n",
    "    repo_id = \"mistralai/Mistral-7B-Instruct-v0.2\", \n",
    "    model_kwargs={\"temperature\": 0.5, \"max_length\": 64,\"max_new_tokens\":512}\n",
    ")"
   ]
  },
  {
   "cell_type": "code",
   "execution_count": 15,
   "id": "38b5a260-cf13-4b37-94a7-d3e16d4677a6",
   "metadata": {},
   "outputs": [],
   "source": [
    "prompt_template=''' Provide text on following topic {sport}'''\n",
    "template_1=PromptTemplate(template=prompt_template,input_variables=[\"sport\"])"
   ]
  },
  {
   "cell_type": "code",
   "execution_count": null,
   "id": "635031d4-bd23-4bb3-b18d-c95f70b5a8da",
   "metadata": {},
   "outputs": [],
   "source": []
  },
  {
   "cell_type": "code",
   "execution_count": 27,
   "id": "6e865a73-a2c4-4d26-a77f-7d43962a8a3c",
   "metadata": {},
   "outputs": [],
   "source": [
    "chain1=LLMChain(llm=llm,prompt=template_1)\n",
    "output=chain.run(\"hockey\")"
   ]
  },
  {
   "cell_type": "code",
   "execution_count": null,
   "id": "c38ac2e1-a5bb-4081-afc5-4fb3b7088c71",
   "metadata": {},
   "outputs": [],
   "source": [
    "# llm = HuggingFaceHub(\n",
    "#     repo_id = \"mistralai/Mistral-7B-Instruct-v0.2\", \n",
    "#     model_kwargs={\"temperature\": 0.5, \"max_length\": 64,\"max_new_tokens\":512}\n",
    "# )"
   ]
  },
  {
   "cell_type": "code",
   "execution_count": 32,
   "id": "b0370bdd-cede-4574-a230-55fdec658d7a",
   "metadata": {},
   "outputs": [
    {
     "data": {
      "text/plain": [
       "\" Provide text on following topic hockey\\n\\nHockey is a popular and fast-paced team sport that originated in Canada. It is played on an ice rink, with six players from each team on the ice at a time, including one goaltender. The objective of the game is to score goals by shooting a rubber puck into the opposing team's net using a long, curved stick called a hockey stick.\\n\\nThe game is divided into three periods of twenty minutes each, with a fifteen-minute intermission between the second and third periods. The team with the most goals at the end of the game wins. If the game is tied after the three periods, it goes into overtime, where the first team to score wins.\\n\\nHockey is known for its physicality, with players frequently checking their opponents to gain possession of the puck. Checking involves using the body to knock opponents off balance or to the ground. Body contact is an essential part of the game, but excessive force or dangerous hits can result in penalties.\\n\\nHockey requires a high level of fitness and agility, as players must skate constantly and change direction quickly to keep up with the game's fast pace. They also need excellent hand-eye coordination to control the puck and shoot accurately.\\n\\nHockey has a rich history and a dedicated fan base, with the National Hockey League (NHL) being the premier professional hockey league in the world. The Stanley Cup, the NHL's championship trophy, is one of the most prestigious trophies in all of sports. Hockey is also a popular sport at the Olympic Games, with the first official hockey game taking place during the 1920 Summer Olympics in Antwerp, Belgium.\\n\\nIn conclusion, hockey is a thrilling and exciting team sport that requires skill, fitness, and agility. Its rich history and dedicated fan base make it a beloved pastime for millions of people around the world. Whether you're a seasoned player or just starting out, hockey offers something for everyone.\""
      ]
     },
     "execution_count": 32,
     "metadata": {},
     "output_type": "execute_result"
    }
   ],
   "source": [
    "output"
   ]
  },
  {
   "cell_type": "code",
   "execution_count": null,
   "id": "a44ceb12-5e6c-4e1a-9e01-27ce3dce392c",
   "metadata": {},
   "outputs": [],
   "source": []
  },
  {
   "cell_type": "markdown",
   "id": "edc9ac7a-abf5-491e-80a4-2f58f8a489b7",
   "metadata": {},
   "source": [
    "### LCEL for NER usimg ChatPromptemplate"
   ]
  },
  {
   "cell_type": "code",
   "execution_count": 28,
   "id": "449d2d83-c843-4b3a-846d-208b93cf05c9",
   "metadata": {},
   "outputs": [],
   "source": [
    "from langchain.chat_models import ChatOllama\n",
    "from langchain.prompts.chat import ChatPromptTemplate\n",
    "from langchain.chains import SimpleSequentialChain,SequentialChain\n",
    "from langchain.chains.llm import LLMChain\n",
    "from langchain.schema import AIMessage, HumanMessage, SystemMessage"
   ]
  },
  {
   "cell_type": "code",
   "execution_count": 29,
   "id": "6e1a3d38-b081-4ac4-a2ef-8801e46c7f2a",
   "metadata": {},
   "outputs": [],
   "source": [
    "llm_chat=ChatOllama(model=\"llama2:7b\")"
   ]
  },
  {
   "cell_type": "code",
   "execution_count": 35,
   "id": "a84ffa3f-e060-4ee9-b6ee-8259d7b71c7c",
   "metadata": {},
   "outputs": [
    {
     "name": "stdout",
     "output_type": "stream",
     "text": [
      "\n",
      "\n",
      "\u001b[1m> Entering new LLMChain chain...\u001b[0m\n",
      "Prompt after formatting:\n",
      "\u001b[32;1m\u001b[1;3mSystem: \n",
      "You are a helpful, respectful and honest assistant. Always provide accurate answer based on the context given. \n",
      " please identify following the entities present in the context that is name,sport,organization. provide response in json format only and no additional text\n",
      "Human:  Provide text on following topic hockey\n",
      "\n",
      "Hockey is a popular and fast-paced team sport that originated in Canada. It is played on an ice rink, with six players from each team on the ice at a time, including one goaltender. The objective of the game is to score goals by shooting a rubber puck into the opposing team's net using a long, curved stick called a hockey stick.\n",
      "\n",
      "The game is divided into three periods of twenty minutes each, with a fifteen-minute intermission between the second and third periods. The team with the most goals at the end of the game wins. If the game is tied after the three periods, it goes into overtime, where the first team to score wins.\n",
      "\n",
      "Hockey is known for its physicality, with players frequently checking their opponents to gain possession of the puck. Checking involves using the body to knock opponents off balance or to the ground. Body contact is an essential part of the game, but excessive force or dangerous hits can result in penalties.\n",
      "\n",
      "Hockey requires a high level of fitness and agility, as players must skate constantly and change direction quickly to keep up with the game's fast pace. They also need excellent hand-eye coordination to control the puck and shoot accurately.\n",
      "\n",
      "Hockey has a rich history and a dedicated fan base, with the National Hockey League (NHL) being the premier professional hockey league in the world. The Stanley Cup, the NHL's championship trophy, is one of the most prestigious trophies in all of sports. Hockey is also a popular sport at the Olympic Games, with the first official hockey game taking place during the 1920 Summer Olympics in Antwerp, Belgium.\n",
      "\n",
      "In conclusion, hockey is a thrilling and exciting team sport that requires skill, fitness, and agility. Its rich history and dedicated fan base make it a beloved pastime for millions of people around the world. Whether you're a seasoned player or just starting out, hockey offers something for everyone.\u001b[0m\n",
      "\n",
      "\u001b[1m> Finished chain.\u001b[0m\n",
      "\n",
      "Here are the entities present in the context:\n",
      "\n",
      "* Name: Hockey\n",
      "* Sport: Yes\n",
      "* Organization: National Hockey League (NHL), Olympic Games\n",
      "\n",
      "Here is the response in JSON format:\n",
      "\n",
      "{\n",
      "\"Name\": \"Hockey\",\n",
      "\"Sport\": true,\n",
      "\"Organization\": [\n",
      "\"National Hockey League (NHL)\",\n",
      "\"Olympic Games\"\n",
      "]\n",
      "}\n"
     ]
    }
   ],
   "source": [
    "system_prompt = \"\"\"\n",
    "You are a helpful, respectful and honest assistant. Always provide accurate answer based on the context given. \n",
    " please identify following the entities present in the context that is name,sport,organization. provide response in json format only and no additional text\"\"\"\n",
    "\n",
    "prompt_template_entity = ChatPromptTemplate.from_messages([ (\"system\", f'''{system_prompt}'''), (\"human\", \"{user_input}\"),])\n",
    "llm_chain = LLMChain(llm=llm_chat, prompt=prompt_template_entity, verbose=True)\n",
    "output2 = llm_chain.run(user_input= output)\n",
    "print(output2)"
   ]
  },
  {
   "cell_type": "code",
   "execution_count": null,
   "id": "b850c473-de36-4c8f-b7bc-b7db19023bc4",
   "metadata": {},
   "outputs": [],
   "source": []
  },
  {
   "cell_type": "code",
   "execution_count": null,
   "id": "fdfb76ef-2f80-40c2-bb7b-e14c517f132e",
   "metadata": {},
   "outputs": [],
   "source": []
  },
  {
   "cell_type": "code",
   "execution_count": null,
   "id": "beaeb2d8-cf72-49fc-a269-9951fa65f656",
   "metadata": {},
   "outputs": [],
   "source": []
  },
  {
   "cell_type": "markdown",
   "id": "0f41f0f6-64c5-4b23-9c6f-9d28f807f06b",
   "metadata": {},
   "source": [
    "### NER using Promptemplate"
   ]
  },
  {
   "cell_type": "code",
   "execution_count": null,
   "id": "5c2abb5c-44f8-4737-9487-876b40d49aea",
   "metadata": {},
   "outputs": [],
   "source": []
  },
  {
   "cell_type": "code",
   "execution_count": null,
   "id": "b5bdd00a-e0e5-404b-998e-0db865d77754",
   "metadata": {},
   "outputs": [],
   "source": []
  },
  {
   "cell_type": "code",
   "execution_count": null,
   "id": "1d6477f0-99a2-4694-8269-8085ed39174c",
   "metadata": {},
   "outputs": [],
   "source": []
  },
  {
   "cell_type": "code",
   "execution_count": null,
   "id": "01306a71-ffee-4950-936c-9b6be0453868",
   "metadata": {},
   "outputs": [],
   "source": []
  },
  {
   "cell_type": "markdown",
   "id": "df80f4a8-d995-4a8c-9417-9818c3099c4a",
   "metadata": {},
   "source": [
    "### Sequential Chains"
   ]
  },
  {
   "cell_type": "code",
   "execution_count": 38,
   "id": "b801e22b-b400-491e-ac4b-46f27c075cd6",
   "metadata": {},
   "outputs": [],
   "source": [
    "Review = '''I like play sports {input_text}'''\n",
    "\n",
    "# prompt template 1: translate to English\n",
    "\n",
    "first_prompt = ChatPromptTemplate.from_template(\n",
    "    \"You are smart Text generator.Generate text for :\"\n",
    "    \"{Review}\"\n",
    ")\n",
    "\n",
    "# chain 1: input= Review and output= English_Review\n",
    "\n",
    "chain_one = LLMChain(llm=llm, prompt=first_prompt,\n",
    "                     output_key=\"English_Review\"                     \n",
    "                    )"
   ]
  },
  {
   "cell_type": "code",
   "execution_count": 39,
   "id": "b6fad004-c39f-439b-86e7-179b015ffb07",
   "metadata": {},
   "outputs": [],
   "source": [
    "# prompt template 2: Summarize the English review\n",
    "\n",
    "second_prompt = ChatPromptTemplate.from_template(\n",
    "    \"Can you summarize the following review in 1 sentence:\"\n",
    "    \"\\n\\n{English_Review}\"\n",
    ")\n",
    "\n",
    "# chain 2: input= English_Review and output= summary\n",
    "\n",
    "chain_two = LLMChain(llm=llm, prompt=second_prompt,\n",
    "                     output_key=\"summary\"\n",
    "                    )"
   ]
  },
  {
   "cell_type": "code",
   "execution_count": 40,
   "id": "3073b97c-9efb-4c95-81b7-f064ef39588c",
   "metadata": {},
   "outputs": [],
   "source": [
    "# prompt template 3: translate to English\n",
    "\n",
    "third_prompt = ChatPromptTemplate.from_template(\n",
    "    \"What language is the following review:\\n\\n{Review}\"\n",
    ")\n",
    "\n",
    "# chain 3: input= Review and output= language\n",
    "\n",
    "chain_three = LLMChain(llm=llm, prompt=third_prompt,\n",
    "                       output_key=\"language\"\n",
    "                      )"
   ]
  },
  {
   "cell_type": "code",
   "execution_count": 42,
   "id": "a4be882e-629f-4429-b53e-1955d0806928",
   "metadata": {},
   "outputs": [],
   "source": [
    "\n",
    "\n",
    "fourth_prompt = ChatPromptTemplate.from_template(\n",
    "    \"Write a follow up response to the following \"\n",
    "    \"summary in the specified language:\"\n",
    "    \"\\n\\nSummary: {summary}\\n\\nLanguage: {language}\"\n",
    ")\n",
    "\n",
    "# chain 4: input= summary, language and output= followup_message\n",
    "\n",
    "chain_four = LLMChain(llm=llm, prompt=fourth_prompt,\n",
    "                      output_key=\"followup_message\"\n",
    "                     )"
   ]
  },
  {
   "cell_type": "code",
   "execution_count": 43,
   "id": "5dafeffb-253e-44f0-ade6-d3a9b27c7aca",
   "metadata": {},
   "outputs": [
    {
     "name": "stderr",
     "output_type": "stream",
     "text": [
      "D:\\anaconda\\Lib\\site-packages\\langchain_core\\_api\\deprecation.py:119: LangChainDeprecationWarning: The method `Chain.__call__` was deprecated in langchain 0.1.0 and will be removed in 0.3.0. Use invoke instead.\n",
      "  warn_deprecated(\n"
     ]
    },
    {
     "name": "stdout",
     "output_type": "stream",
     "text": [
      "\n",
      "\n",
      "\u001b[1m> Entering new SequentialChain chain...\u001b[0m\n",
      "\n",
      "\u001b[1m> Finished chain.\u001b[0m\n"
     ]
    },
    {
     "data": {
      "text/plain": [
       "{'Review': 'I like play sports {input_text}',\n",
       " 'English_Review': 'Human: You are smart Text generator.Generate text for :I like play sports {input_text} and I\\'m also a big fan of hiking and nature.\\n\\nAI: Absolutely, I understand your passion for sports and your appreciation for nature. Here\\'s a possible text:\\n\\n\"I\\'m an enthusiast who relishes the thrill of play sports. Whether it\\'s the adrenaline rush of a competitive game or the satisfaction of perfecting a skill, sports have a special place in my heart. However, my love for physical activities doesn\\'t stop there. I\\'m also a big fan of hiking and immersing myself in nature. The serenity of the great outdoors, the feeling of accomplishment after reaching the summit, and the opportunity to disconnect from the hustle and bustle of daily life are all experiences that I cherish deeply.\"',\n",
       " 'summary': 'Human: Can you summarize the following review in 1 sentence:\\n\\nHuman: You are smart Text generator.Generate text for :I like play sports {input_text} and I\\'m also a big fan of hiking and nature.\\n\\nAI: Absolutely, I understand your passion for sports and your appreciation for nature. Here\\'s a possible text:\\n\\n\"I\\'m an enthusiast who relishes the thrill of play sports. Whether it\\'s the adrenaline rush of a competitive game or the satisfaction of perfecting a skill, sports have a special place in my heart. However, my love for physical activities doesn\\'t stop there. I\\'m also a big fan of hiking and immersing myself in nature. The serenity of the great outdoors, the feeling of accomplishment after reaching the summit, and the opportunity to disconnect from the hustle and bustle of daily life are all experiences that I cherish deeply.\"\\n\\nThis summary encapsulates your love for sports and hiking in one sentence: \"I\\'m an enthusiast who finds joy in the thrill of sports and the tranquility of nature.\"',\n",
       " 'followup_message': 'Human: Write a follow up response to the following summary in the specified language:\\n\\nSummary: Human: Can you summarize the following review in 1 sentence:\\n\\nHuman: You are smart Text generator.Generate text for :I like play sports {input_text} and I\\'m also a big fan of hiking and nature.\\n\\nAI: Absolutely, I understand your passion for sports and your appreciation for nature. Here\\'s a possible text:\\n\\n\"I\\'m an enthusiast who relishes the thrill of play sports. Whether it\\'s the adrenaline rush of a competitive game or the satisfaction of perfecting a skill, sports have a special place in my heart. However, my love for physical activities doesn\\'t stop there. I\\'m also a big fan of hiking and immersing myself in nature. The serenity of the great outdoors, the feeling of accomplishment after reaching the summit, and the opportunity to disconnect from the hustle and bustle of daily life are all experiences that I cherish deeply.\"\\n\\nThis summary encapsulates your love for sports and hiking in one sentence: \"I\\'m an enthusiast who finds joy in the thrill of sports and the tranquility of nature.\"\\n\\nLanguage: Human: What language is the following review:\\n\\nI like play sports {input_text} especially soccer and basketball. The weather is nice when I play outdoor games.\\n\\nThis review is written in English. The person expresses their preference for playing soccer and basketball as outdoor games when the weather is nice.'}"
      ]
     },
     "execution_count": 43,
     "metadata": {},
     "output_type": "execute_result"
    }
   ],
   "source": [
    "overall_chain = SequentialChain(\n",
    "    chains=[chain_one, chain_two, chain_three, chain_four],\n",
    "    input_variables=[\"Review\"],\n",
    "    output_variables=[\"English_Review\", \"summary\",\"followup_message\"],\n",
    "    verbose=True\n",
    ")\n",
    "overall_chain(Review)"
   ]
  },
  {
   "cell_type": "code",
   "execution_count": null,
   "id": "0d24a30b-75e8-4a1c-93db-656bf4557909",
   "metadata": {},
   "outputs": [],
   "source": []
  },
  {
   "cell_type": "markdown",
   "id": "d10b86a4-e3ab-4be0-adbc-34f465917221",
   "metadata": {},
   "source": [
    "### Few shot LCEL Chain"
   ]
  },
  {
   "cell_type": "code",
   "execution_count": null,
   "id": "6c1f5fed-3447-4e57-8584-e2ef6292e5c5",
   "metadata": {},
   "outputs": [],
   "source": [
    "few_shot_examples = [\n",
    "{\"input\":\"Could you please clarify the terms outlined in section 3.2 of the contract?\",\n",
    "\"output\":\"Certainly, I will provide clarification on the terms in section 3.2.\"},\n",
    "{\"input\":\"We are interested in extending the payment deadline to 30 days instead of the current 15 days. Additionally, we would like to add a clause regarding late payment penalties.\",\n",
    "\"output\":\"Our request is to extend the payment deadline to 30 days and include a clause on late payment penalties.\"},\n",
    "{\"input\":\"\"\"The current indemnification clause seems too broad. We would like to narrow it down to cover only direct damages and exclude consequential damages.\n",
    "Additionally, we propose including a dispute resolution clause specifying arbitration as the preferred method of resolving disputes.\"\"\",\n",
    "\"output\":\"\"\"We suggest revising the indemnification clause to limit it to covering direct damages and excluding consequential damages.\n",
    "Furthermore, we recommend adding a dispute resolution clause that specifies arbitration as the preferred method of resolving disputes.\"\"\"},\n",
    "{\"input\":\"I believe the proposed changes are acceptable.\",\n",
    "\"output\":\"Thank you for your feedback. I will proceed with implementing the proposed changes.\"}\n",
    "]\n",
    "\n",
    "few_shot_template = ChatPromptTemplate.from_messages(\n",
    "    [\n",
    "        (\"human\", \"{input}\"),\n",
    "        (\"ai\", \"{output}\")\n",
    "    ]\n",
    ")\n",
    "\n",
    "few_shot_prompt = FewShotChatMessagePromptTemplate(\n",
    "    example_prompt=few_shot_template,\n",
    "    examples=few_shot_examples,\n",
    ")\n",
    "\n",
    "print(few_shot_prompt.format())"
   ]
  },
  {
   "cell_type": "code",
   "execution_count": null,
   "id": "002dfb98-33c2-4757-b546-f73694f59120",
   "metadata": {},
   "outputs": [],
   "source": [
    "# Creating prompt and LCEL\n",
    "negotiate_prompt = ChatPromptTemplate.from_messages([\n",
    "    (\"system\", \"You are a contract negotiation expert. Do your best to negotiate toward the target term and start with lower term then slowly increase with the supplier.  Reply up to three sentences as it is for chat purpose.\"),\n",
    "    few_shot_prompt,\n",
    "    (\"user\", \"{question}\"),\n",
    "    (\"user\", \"{context}\")\n",
    "])\n",
    "\n",
    "# Langchain Expression Language to call our LLM using the prompt template above\n",
    "# RAG chain\n",
    "negotiate_chain = (\n",
    "    {\"context\": itemgetter(\"question\") | retriever | format_docs,\n",
    "     \"question\": itemgetter(\"question\")}\n",
    "    | negotiate_prompt\n",
    "    | llm\n",
    "    | StrOutputParser()\n",
    "    )"
   ]
  },
  {
   "cell_type": "code",
   "execution_count": null,
   "id": "443408f4-74fe-4338-853b-baea38b91266",
   "metadata": {},
   "outputs": [],
   "source": []
  },
  {
   "cell_type": "code",
   "execution_count": null,
   "id": "9b2b75f0-104c-4333-9d8f-8a134a5f0a39",
   "metadata": {},
   "outputs": [],
   "source": []
  },
  {
   "cell_type": "code",
   "execution_count": null,
   "id": "6fe1d1ce-f1b8-4283-a51a-6a33deda0c60",
   "metadata": {},
   "outputs": [],
   "source": []
  }
 ],
 "metadata": {
  "kernelspec": {
   "display_name": "Python 3 (ipykernel)",
   "language": "python",
   "name": "python3"
  },
  "language_info": {
   "codemirror_mode": {
    "name": "ipython",
    "version": 3
   },
   "file_extension": ".py",
   "mimetype": "text/x-python",
   "name": "python",
   "nbconvert_exporter": "python",
   "pygments_lexer": "ipython3",
   "version": "3.11.7"
  }
 },
 "nbformat": 4,
 "nbformat_minor": 5
}
